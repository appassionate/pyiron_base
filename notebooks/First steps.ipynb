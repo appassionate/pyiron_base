{
 "cells": [
  {
   "cell_type": "markdown",
   "id": "298ea281-b053-47cd-9543-64017c06de2e",
   "metadata": {},
   "source": [
    "# First steps in workflow construction with pyiron"
   ]
  },
  {
   "cell_type": "markdown",
   "id": "cd91035d-6670-485f-86d0-5dca1590b920",
   "metadata": {},
   "source": [
    "Author: Jörg Neugebauer  \n",
    "Date: Jan 14, 2023"
   ]
  },
  {
   "cell_type": "code",
   "execution_count": 1,
   "id": "b8742811-6da8-4e5e-9286-8c4dbd131d9a",
   "metadata": {},
   "outputs": [],
   "source": [
    "import numpy as np\n",
    "import matplotlib.pylab as plt\n",
    "\n",
    "from pyiron_base import Project"
   ]
  },
  {
   "cell_type": "markdown",
   "id": "9c67dd57-ec4f-404a-8ea1-1f2b86be4577",
   "metadata": {},
   "source": [
    "## Add a simple Hello World python module to pyiron"
   ]
  },
  {
   "cell_type": "markdown",
   "id": "3f4b0539-dfe3-4b4e-8e6a-6fb0191f4442",
   "metadata": {},
   "source": [
    "### Define your function"
   ]
  },
  {
   "cell_type": "code",
   "execution_count": 2,
   "id": "052290bc-e620-4040-9826-af9066a367b7",
   "metadata": {},
   "outputs": [],
   "source": [
    "def my_python_function(name):\n",
    "    return f'Hello {name}' "
   ]
  },
  {
   "cell_type": "markdown",
   "id": "b82789fe-5b64-4a89-941c-280601356ab8",
   "metadata": {},
   "source": [
    "### Write pyiron wrapper around your function"
   ]
  },
  {
   "cell_type": "code",
   "execution_count": 3,
   "id": "dcac41cb-7974-4e6d-a8fd-d3b844af8717",
   "metadata": {},
   "outputs": [],
   "source": [
    "from pyiron_base import PythonTemplateJob\n",
    "\n",
    "class HelloWorld(PythonTemplateJob):\n",
    "    def __init__(self, project, job_name):\n",
    "        \"\"\"Hello World module\"\"\"\n",
    "        super().__init__(project, job_name)\n",
    "        \n",
    "        self.input.name = None\n",
    "        # self.executable = my_python_function\n",
    "        \n",
    "    # Allow writing of the input file\n",
    "    def _check_if_input_should_be_written(self):\n",
    "        return True\n",
    "            \n",
    "    # Check for valid input\n",
    "    def validate_ready_to_run(self):\n",
    "        if self.input.name is None:\n",
    "            raise ValueError(\n",
    "                f\"Provide name (job.name=...)\"\n",
    "            )\n",
    "\n",
    "    # This function is executed\n",
    "    def run_static(self):\n",
    "        out = my_python_function(self.input.name)\n",
    "\n",
    "        self.output.greetings = out\n",
    "        \n",
    "        self.status.finished = True\n",
    "        self.to_hdf()\n",
    "        self.project.db.item_update(self._runtime(), self.job_id)\n",
    "        #self.compress()"
   ]
  },
  {
   "cell_type": "markdown",
   "id": "2babb906-6d01-4bdc-9457-85d1d80050ba",
   "metadata": {},
   "source": [
    "### Create a project"
   ]
  },
  {
   "cell_type": "markdown",
   "id": "5f897b7a-bd7d-4885-a0f6-b0774ca56743",
   "metadata": {},
   "source": [
    "Note: To not spoil the large database we work with a local (lightweight) database"
   ]
  },
  {
   "cell_type": "code",
   "execution_count": 4,
   "id": "43d335a6-cb49-477a-a72e-2b706ac7af57",
   "metadata": {},
   "outputs": [
    {
     "name": "stderr",
     "output_type": "stream",
     "text": [
      "/tmp/ipykernel_21732/4271528720.py:2: DeprecationWarning: pyiron_base.project.generic.remove_jobs_silently is deprecated: Use pr.remove_jobs(silently=True) rather than pr.remove_jobs_silently()..\n",
      "  pr.remove_jobs_silently()\n"
     ]
    }
   ],
   "source": [
    "pr = Project('Hello')\n",
    "pr.remove_jobs_silently()\n",
    "# pr.switch_to_local_database()"
   ]
  },
  {
   "cell_type": "markdown",
   "id": "6b68eac8-9401-4358-a08d-a8f57dc2dfbf",
   "metadata": {},
   "source": [
    "### Create a job"
   ]
  },
  {
   "cell_type": "code",
   "execution_count": 5,
   "id": "f0e04815-88c4-4625-9c99-6d1317ad575b",
   "metadata": {},
   "outputs": [],
   "source": [
    "job = pr.create_job(job_type=HelloWorld, job_name=f'job')\n",
    "job.input.name = 'CM'"
   ]
  },
  {
   "cell_type": "markdown",
   "id": "773a3818-a421-4714-8340-d5c8ae9e907e",
   "metadata": {},
   "source": [
    "#### Inspect input"
   ]
  },
  {
   "cell_type": "code",
   "execution_count": 6,
   "id": "9a49e5a2-dc72-4346-9cc1-8f3b9af45abb",
   "metadata": {},
   "outputs": [
    {
     "data": {
      "application/json": {
       "name": "'CM'"
      },
      "text/html": [
       "<pre>DataContainer({\n",
       "  \"name\": \"'CM'\"\n",
       "})</pre>"
      ],
      "text/plain": [
       "DataContainer({'name': 'CM'})"
      ]
     },
     "execution_count": 6,
     "metadata": {},
     "output_type": "execute_result"
    }
   ],
   "source": [
    "job.input"
   ]
  },
  {
   "cell_type": "markdown",
   "id": "a1705999-aee7-4b8f-9605-5263d30b005d",
   "metadata": {},
   "source": [
    "### Run the job"
   ]
  },
  {
   "cell_type": "markdown",
   "id": "c7fbfae7-f74b-42a7-90d7-6f729538cbda",
   "metadata": {},
   "source": [
    "Note: If a job with the same name exists already in the project it will be loaded rather than run again. For test purposes we enforce here to remove an existing job and run it again. "
   ]
  },
  {
   "cell_type": "code",
   "execution_count": 7,
   "id": "4748f62e-5517-48ce-977b-4bdca59d95ea",
   "metadata": {},
   "outputs": [
    {
     "name": "stdout",
     "output_type": "stream",
     "text": [
      "The job job was saved and received the ID: 18758578\n"
     ]
    }
   ],
   "source": [
    "job.run(delete_existing_job=True)"
   ]
  },
  {
   "cell_type": "code",
   "execution_count": 8,
   "id": "4e9289a2-fd43-46b6-a798-06b709bcbd77",
   "metadata": {},
   "outputs": [
    {
     "data": {
      "text/html": [
       "<div>\n",
       "<style scoped>\n",
       "    .dataframe tbody tr th:only-of-type {\n",
       "        vertical-align: middle;\n",
       "    }\n",
       "\n",
       "    .dataframe tbody tr th {\n",
       "        vertical-align: top;\n",
       "    }\n",
       "\n",
       "    .dataframe thead th {\n",
       "        text-align: right;\n",
       "    }\n",
       "</style>\n",
       "<table border=\"1\" class=\"dataframe\">\n",
       "  <thead>\n",
       "    <tr style=\"text-align: right;\">\n",
       "      <th></th>\n",
       "      <th>id</th>\n",
       "      <th>status</th>\n",
       "      <th>chemicalformula</th>\n",
       "      <th>job</th>\n",
       "      <th>subjob</th>\n",
       "      <th>projectpath</th>\n",
       "      <th>project</th>\n",
       "      <th>timestart</th>\n",
       "      <th>timestop</th>\n",
       "      <th>totalcputime</th>\n",
       "      <th>computer</th>\n",
       "      <th>hamilton</th>\n",
       "      <th>hamversion</th>\n",
       "      <th>parentid</th>\n",
       "      <th>masterid</th>\n",
       "    </tr>\n",
       "  </thead>\n",
       "  <tbody>\n",
       "    <tr>\n",
       "      <th>0</th>\n",
       "      <td>18758578</td>\n",
       "      <td>finished</td>\n",
       "      <td>None</td>\n",
       "      <td>job</td>\n",
       "      <td>/job</td>\n",
       "      <td>/cmmc/u/</td>\n",
       "      <td>neugebau/myjupyternotebooks/pyiron/Developments/workflow/Hello/</td>\n",
       "      <td>2023-01-16 16:54:45.342632</td>\n",
       "      <td>2023-01-16 16:54:45.442127</td>\n",
       "      <td>0.0</td>\n",
       "      <td>neugebau@cmti001#1</td>\n",
       "      <td>HelloWorld</td>\n",
       "      <td>0.4</td>\n",
       "      <td>None</td>\n",
       "      <td>None</td>\n",
       "    </tr>\n",
       "  </tbody>\n",
       "</table>\n",
       "</div>"
      ],
      "text/plain": [
       "         id    status chemicalformula  job subjob projectpath  \\\n",
       "0  18758578  finished            None  job   /job    /cmmc/u/   \n",
       "\n",
       "                                                           project  \\\n",
       "0  neugebau/myjupyternotebooks/pyiron/Developments/workflow/Hello/   \n",
       "\n",
       "                   timestart                   timestop  totalcputime  \\\n",
       "0 2023-01-16 16:54:45.342632 2023-01-16 16:54:45.442127           0.0   \n",
       "\n",
       "             computer    hamilton hamversion parentid masterid  \n",
       "0  neugebau@cmti001#1  HelloWorld        0.4     None     None  "
      ]
     },
     "execution_count": 8,
     "metadata": {},
     "output_type": "execute_result"
    }
   ],
   "source": [
    "pr.job_table()"
   ]
  },
  {
   "cell_type": "markdown",
   "id": "a7d84c83-7d83-4f1a-9a87-34c0cff1051b",
   "metadata": {},
   "source": [
    "### Analyse the job"
   ]
  },
  {
   "cell_type": "code",
   "execution_count": 9,
   "id": "1720587c-45ad-4844-9dfe-d805831c1333",
   "metadata": {},
   "outputs": [
    {
     "data": {
      "text/plain": [
       "{'restart_file_list': [],\n",
       " 'restart_file_dict': {},\n",
       " 'exclude_nodes_hdf': [],\n",
       " 'exclude_groups_hdf': []}"
      ]
     },
     "execution_count": 9,
     "metadata": {},
     "output_type": "execute_result"
    }
   ],
   "source": [
    "job['input/generic_dict']"
   ]
  },
  {
   "cell_type": "code",
   "execution_count": 10,
   "id": "e35508d2-302c-4e3e-b15b-69463f307696",
   "metadata": {},
   "outputs": [
    {
     "data": {
      "application/json": {
       "name": "'CM'"
      },
      "text/html": [
       "<pre>DataContainer({\n",
       "  \"name\": \"'CM'\"\n",
       "})</pre>"
      ],
      "text/plain": [
       "DataContainer({'name': 'CM'})"
      ]
     },
     "execution_count": 10,
     "metadata": {},
     "output_type": "execute_result"
    }
   ],
   "source": [
    "job.storage.input"
   ]
  },
  {
   "cell_type": "code",
   "execution_count": 11,
   "id": "98824342-3008-426f-9725-07d9e7a15fb5",
   "metadata": {},
   "outputs": [
    {
     "data": {
      "text/plain": [
       "'finished'"
      ]
     },
     "execution_count": 11,
     "metadata": {},
     "output_type": "execute_result"
    }
   ],
   "source": [
    "job.status"
   ]
  },
  {
   "cell_type": "code",
   "execution_count": 12,
   "id": "36526d5c-dd9a-4193-997c-575375cb0779",
   "metadata": {},
   "outputs": [
    {
     "data": {
      "text/plain": [
       "{'groups': ['input', 'storage'], 'nodes': ['HDF_VERSION', 'NAME', 'OBJECT', 'TYPE', 'VERSION', 'job_id', 'server', 'status']}"
      ]
     },
     "execution_count": 12,
     "metadata": {},
     "output_type": "execute_result"
    }
   ],
   "source": [
    "job"
   ]
  },
  {
   "cell_type": "markdown",
   "id": "89eb79f7-868e-417a-a778-486f43551dfa",
   "metadata": {},
   "source": [
    "Q:Why storage and not output? Input appears to be in *input* and *storage*/*input*!\n",
    "\n",
    "TODO: Unify output for job and job.storage (make also pyiron_object output json-like (or beyond)"
   ]
  },
  {
   "cell_type": "code",
   "execution_count": 13,
   "id": "f5ced6ac-cc0c-4e1c-80c4-23e44be1ea3f",
   "metadata": {},
   "outputs": [
    {
     "data": {
      "application/json": {
       "input": {
        "name": "'CM'"
       },
       "output": {
        "greetings": "'Hello job'"
       }
      },
      "text/html": [
       "<pre>DataContainer({\n",
       "  \"input\": {\n",
       "    \"name\": \"'CM'\"\n",
       "  },\n",
       "  \"output\": {\n",
       "    \"greetings\": \"'Hello job'\"\n",
       "  }\n",
       "})</pre>"
      ],
      "text/plain": [
       "DataContainer({'input': DataContainer({'name': 'CM'}), 'output': DataContainer({'greetings': 'Hello job'})})"
      ]
     },
     "execution_count": 13,
     "metadata": {},
     "output_type": "execute_result"
    }
   ],
   "source": [
    "job.storage"
   ]
  },
  {
   "cell_type": "markdown",
   "id": "5bdd58bc-54b0-4cc5-a577-8c866948d09c",
   "metadata": {},
   "source": [
    "### Analyse project"
   ]
  },
  {
   "cell_type": "code",
   "execution_count": 14,
   "id": "2831a5a1-4951-408a-96a8-c7a25455cae1",
   "metadata": {},
   "outputs": [
    {
     "data": {
      "text/html": [
       "<div>\n",
       "<style scoped>\n",
       "    .dataframe tbody tr th:only-of-type {\n",
       "        vertical-align: middle;\n",
       "    }\n",
       "\n",
       "    .dataframe tbody tr th {\n",
       "        vertical-align: top;\n",
       "    }\n",
       "\n",
       "    .dataframe thead th {\n",
       "        text-align: right;\n",
       "    }\n",
       "</style>\n",
       "<table border=\"1\" class=\"dataframe\">\n",
       "  <thead>\n",
       "    <tr style=\"text-align: right;\">\n",
       "      <th></th>\n",
       "      <th>id</th>\n",
       "      <th>status</th>\n",
       "      <th>chemicalformula</th>\n",
       "      <th>job</th>\n",
       "      <th>subjob</th>\n",
       "      <th>projectpath</th>\n",
       "      <th>project</th>\n",
       "      <th>timestart</th>\n",
       "      <th>timestop</th>\n",
       "      <th>totalcputime</th>\n",
       "      <th>computer</th>\n",
       "      <th>hamilton</th>\n",
       "      <th>hamversion</th>\n",
       "      <th>parentid</th>\n",
       "      <th>masterid</th>\n",
       "    </tr>\n",
       "  </thead>\n",
       "  <tbody>\n",
       "    <tr>\n",
       "      <th>0</th>\n",
       "      <td>18758578</td>\n",
       "      <td>finished</td>\n",
       "      <td>None</td>\n",
       "      <td>job</td>\n",
       "      <td>/job</td>\n",
       "      <td>/cmmc/u/</td>\n",
       "      <td>neugebau/myjupyternotebooks/pyiron/Developments/workflow/Hello/</td>\n",
       "      <td>2023-01-16 16:54:45.342632</td>\n",
       "      <td>2023-01-16 16:54:45.442127</td>\n",
       "      <td>0.0</td>\n",
       "      <td>neugebau@cmti001#1</td>\n",
       "      <td>HelloWorld</td>\n",
       "      <td>0.4</td>\n",
       "      <td>None</td>\n",
       "      <td>None</td>\n",
       "    </tr>\n",
       "  </tbody>\n",
       "</table>\n",
       "</div>"
      ],
      "text/plain": [
       "         id    status chemicalformula  job subjob projectpath  \\\n",
       "0  18758578  finished            None  job   /job    /cmmc/u/   \n",
       "\n",
       "                                                           project  \\\n",
       "0  neugebau/myjupyternotebooks/pyiron/Developments/workflow/Hello/   \n",
       "\n",
       "                   timestart                   timestop  totalcputime  \\\n",
       "0 2023-01-16 16:54:45.342632 2023-01-16 16:54:45.442127           0.0   \n",
       "\n",
       "             computer    hamilton hamversion parentid masterid  \n",
       "0  neugebau@cmti001#1  HelloWorld        0.4     None     None  "
      ]
     },
     "execution_count": 14,
     "metadata": {},
     "output_type": "execute_result"
    }
   ],
   "source": [
    "pr.job_table()"
   ]
  },
  {
   "cell_type": "markdown",
   "id": "41035134-37d5-433f-a25e-93c80d694c1b",
   "metadata": {},
   "source": [
    "## Upscale to HPC"
   ]
  },
  {
   "cell_type": "markdown",
   "id": "85afce10-ee93-4d8d-80a9-90b371061b1c",
   "metadata": {},
   "source": [
    "### Create job and set input"
   ]
  },
  {
   "cell_type": "code",
   "execution_count": 15,
   "id": "9a334327-2684-4d72-88d1-b8ee0a210e86",
   "metadata": {},
   "outputs": [],
   "source": [
    "job = pr.create_job(job_type=HelloWorld, job_name=f'job_hpc')\n",
    "job.input.name = 'CM'"
   ]
  },
  {
   "cell_type": "markdown",
   "id": "b39184ea-063b-444c-8754-d40c32fd80d0",
   "metadata": {},
   "source": [
    "### List available queues"
   ]
  },
  {
   "cell_type": "code",
   "execution_count": 16,
   "id": "fcf7b280-f82e-4c03-9002-e0e8daec113d",
   "metadata": {},
   "outputs": [
    {
     "data": {
      "text/plain": [
       "['cm', 'cmfe', 'cmti', 's_cmfe', 'p_cmfe', 'cmti_large']"
      ]
     },
     "execution_count": 16,
     "metadata": {},
     "output_type": "execute_result"
    }
   ],
   "source": [
    "job._server.queue_list"
   ]
  },
  {
   "cell_type": "markdown",
   "id": "ed8fea45-fd66-4a71-8e9a-161a3169fb25",
   "metadata": {},
   "source": [
    "### Set queue and number of cores"
   ]
  },
  {
   "cell_type": "code",
   "execution_count": 17,
   "id": "045c543f-27cb-42b0-9750-65f286198d24",
   "metadata": {},
   "outputs": [],
   "source": [
    "job.server.queue = 's_cmfe'\n",
    "job.server.cores = 1"
   ]
  },
  {
   "cell_type": "markdown",
   "id": "0cb12f80-5d75-4bbb-af3a-eb4aa3e512f4",
   "metadata": {},
   "source": [
    "### Run job on queue"
   ]
  },
  {
   "cell_type": "code",
   "execution_count": 18,
   "id": "2b499388-f76f-4a78-9522-170442420267",
   "metadata": {},
   "outputs": [
    {
     "name": "stdout",
     "output_type": "stream",
     "text": [
      "The job job_hpc was saved and received the ID: 18758579\n",
      "Queue system id:  4714964\n"
     ]
    }
   ],
   "source": [
    "job.run()"
   ]
  },
  {
   "cell_type": "code",
   "execution_count": 23,
   "id": "d2b77db3-e689-4b7d-9033-73969d78c09e",
   "metadata": {},
   "outputs": [
    {
     "data": {
      "text/html": [
       "<div>\n",
       "<style scoped>\n",
       "    .dataframe tbody tr th:only-of-type {\n",
       "        vertical-align: middle;\n",
       "    }\n",
       "\n",
       "    .dataframe tbody tr th {\n",
       "        vertical-align: top;\n",
       "    }\n",
       "\n",
       "    .dataframe thead th {\n",
       "        text-align: right;\n",
       "    }\n",
       "</style>\n",
       "<table border=\"1\" class=\"dataframe\">\n",
       "  <thead>\n",
       "    <tr style=\"text-align: right;\">\n",
       "      <th></th>\n",
       "      <th>id</th>\n",
       "      <th>status</th>\n",
       "      <th>chemicalformula</th>\n",
       "      <th>job</th>\n",
       "      <th>subjob</th>\n",
       "      <th>projectpath</th>\n",
       "      <th>project</th>\n",
       "      <th>timestart</th>\n",
       "      <th>timestop</th>\n",
       "      <th>totalcputime</th>\n",
       "      <th>computer</th>\n",
       "      <th>hamilton</th>\n",
       "      <th>hamversion</th>\n",
       "      <th>parentid</th>\n",
       "      <th>masterid</th>\n",
       "    </tr>\n",
       "  </thead>\n",
       "  <tbody>\n",
       "    <tr>\n",
       "      <th>0</th>\n",
       "      <td>18758578</td>\n",
       "      <td>finished</td>\n",
       "      <td>None</td>\n",
       "      <td>job</td>\n",
       "      <td>/job</td>\n",
       "      <td>/cmmc/u/</td>\n",
       "      <td>neugebau/myjupyternotebooks/pyiron/Developments/workflow/Hello/</td>\n",
       "      <td>2023-01-16 16:54:45.342632</td>\n",
       "      <td>2023-01-16 16:54:45.442127</td>\n",
       "      <td>0.0</td>\n",
       "      <td>neugebau@cmti001#1</td>\n",
       "      <td>HelloWorld</td>\n",
       "      <td>0.4</td>\n",
       "      <td>None</td>\n",
       "      <td>None</td>\n",
       "    </tr>\n",
       "    <tr>\n",
       "      <th>1</th>\n",
       "      <td>18758579</td>\n",
       "      <td>submitted</td>\n",
       "      <td>None</td>\n",
       "      <td>job_hpc</td>\n",
       "      <td>/job_hpc</td>\n",
       "      <td>/cmmc/u/</td>\n",
       "      <td>neugebau/myjupyternotebooks/pyiron/Developments/workflow/Hello/</td>\n",
       "      <td>2023-01-16 16:54:46.616886</td>\n",
       "      <td>NaT</td>\n",
       "      <td>NaN</td>\n",
       "      <td>neugebau@cmti001#1#s_cmfe</td>\n",
       "      <td>HelloWorld</td>\n",
       "      <td>0.4</td>\n",
       "      <td>None</td>\n",
       "      <td>None</td>\n",
       "    </tr>\n",
       "  </tbody>\n",
       "</table>\n",
       "</div>"
      ],
      "text/plain": [
       "         id     status chemicalformula      job    subjob projectpath  \\\n",
       "0  18758578   finished            None      job      /job    /cmmc/u/   \n",
       "1  18758579  submitted            None  job_hpc  /job_hpc    /cmmc/u/   \n",
       "\n",
       "                                                           project  \\\n",
       "0  neugebau/myjupyternotebooks/pyiron/Developments/workflow/Hello/   \n",
       "1  neugebau/myjupyternotebooks/pyiron/Developments/workflow/Hello/   \n",
       "\n",
       "                   timestart                   timestop  totalcputime  \\\n",
       "0 2023-01-16 16:54:45.342632 2023-01-16 16:54:45.442127           0.0   \n",
       "1 2023-01-16 16:54:46.616886                        NaT           NaN   \n",
       "\n",
       "                    computer    hamilton hamversion parentid masterid  \n",
       "0         neugebau@cmti001#1  HelloWorld        0.4     None     None  \n",
       "1  neugebau@cmti001#1#s_cmfe  HelloWorld        0.4     None     None  "
      ]
     },
     "execution_count": 23,
     "metadata": {},
     "output_type": "execute_result"
    }
   ],
   "source": [
    "pr.job_table()"
   ]
  },
  {
   "cell_type": "markdown",
   "id": "25c756a6-8668-492e-89c5-59d146e89bc6",
   "metadata": {},
   "source": [
    "### Debug"
   ]
  },
  {
   "cell_type": "markdown",
   "id": "7f7028cd-c8cd-4c97-9d3b-5e1a8765ad74",
   "metadata": {},
   "source": [
    "#### List files in working directory (contains all input, output, errors, etc.)"
   ]
  },
  {
   "cell_type": "code",
   "execution_count": 24,
   "id": "8b9a93de-9856-4ae6-9265-f364bbe79506",
   "metadata": {},
   "outputs": [
    {
     "data": {
      "text/plain": [
       "['WARNING_pyiron_modified_content',\n",
       " 'time.out',\n",
       " 'pyiron.log',\n",
       " 'run_queue.sh',\n",
       " 'error.out']"
      ]
     },
     "execution_count": 24,
     "metadata": {},
     "output_type": "execute_result"
    }
   ],
   "source": [
    "job.list_files()"
   ]
  },
  {
   "cell_type": "markdown",
   "id": "c8cb6f1d-fcc8-47df-858e-5be1528b2190",
   "metadata": {},
   "source": [
    "#### Print error message"
   ]
  },
  {
   "cell_type": "markdown",
   "id": "d48562ac-859d-483b-882f-49c76b5ee8ac",
   "metadata": {},
   "source": [
    "TODO: \n",
    "- Provide pretty print without extra code. Could we even provide the links to inspect the relevant modules?\n",
    "- Make it also working on queuing system"
   ]
  },
  {
   "cell_type": "code",
   "execution_count": 25,
   "id": "10181dfb-e06b-421e-9e5b-638eb9ec949d",
   "metadata": {},
   "outputs": [
    {
     "name": "stdout",
     "output_type": "stream",
     "text": [
      "Traceback (most recent call last):\n",
      "  File \"/u/system/SLES12/soft/pyiron/dev/anaconda3/lib/python3.8/runpy.py\", line 194, in _run_module_as_main\n",
      "    return _run_code(code, main_globals, None,\n",
      "  File \"/u/system/SLES12/soft/pyiron/dev/anaconda3/lib/python3.8/runpy.py\", line 87, in _run_code\n",
      "    exec(code, run_globals)\n",
      "  File \"/u/system/SLES12/soft/pyiron/dev/anaconda3/lib/python3.8/site-packages/pyiron_base/cli/__main__.py\", line 3, in <module>\n",
      "    main()\n",
      "  File \"/u/system/SLES12/soft/pyiron/dev/anaconda3/lib/python3.8/site-packages/pyiron_base/cli/__init__.py\", line 63, in main\n",
      "    args.cli(args)\n",
      "  File \"/u/system/SLES12/soft/pyiron/dev/anaconda3/lib/python3.8/site-packages/pyiron_base/cli/wrapper.py\", line 31, in main\n",
      "    job_wrapper_function(\n",
      "  File \"/u/system/SLES12/soft/pyiron/dev/anaconda3/lib/python3.8/site-packages/pyiron_base/jobs/job/wrapper.py\", line 148, in job_wrapper_function\n",
      "    job = JobWrapper(\n",
      "  File \"/u/system/SLES12/soft/pyiron/dev/anaconda3/lib/python3.8/site-packages/pyiron_base/jobs/job/wrapper.py\", line 61, in __init__\n",
      "    self.job = pr.load(int(job_id))\n",
      "  File \"/u/system/SLES12/soft/pyiron/dev/anaconda3/lib/python3.8/site-packages/pyiron_base/project/generic.py\", line 816, in load\n",
      "    return self.load_from_jobpath(\n",
      "  File \"/u/system/SLES12/soft/pyiron/dev/anaconda3/lib/python3.8/site-packages/pyiron_base/project/generic.py\", line 839, in load_from_jobpath\n",
      "    job = job.to_object()\n",
      "  File \"/u/system/SLES12/soft/pyiron/dev/anaconda3/lib/python3.8/site-packages/pyiron_base/jobs/job/core.py\", line 511, in to_object\n",
      "    return self.project_hdf5.to_object(object_type, **qwargs)\n",
      "  File \"/u/system/SLES12/soft/pyiron/dev/anaconda3/lib/python3.8/site-packages/pyiron_base/storage/hdfio.py\", line 1389, in to_object\n",
      "    class_object = self.import_class(class_name)\n",
      "  File \"/u/system/SLES12/soft/pyiron/dev/anaconda3/lib/python3.8/site-packages/pyiron_base/storage/hdfio.py\", line 1328, in import_class\n",
      "    return getattr(\n",
      "AttributeError: module '__main__' has no attribute 'HelloWorld'\n",
      "\n"
     ]
    }
   ],
   "source": [
    "print (''.join(job['error.out']))"
   ]
  },
  {
   "cell_type": "markdown",
   "id": "70a20e35-4e6b-4096-9180-94ee83214d92",
   "metadata": {},
   "source": [
    "## Provide an easy way to register new job types to pyiron"
   ]
  },
  {
   "cell_type": "markdown",
   "id": "86197c4a-5476-4d57-9006-a0bf61463543",
   "metadata": {},
   "source": [
    "**TODO**\n",
    "- Autocompletion does not work (not even for job)\n",
    "- Provide an easy way to register new job types so that the following construction will work"
   ]
  },
  {
   "cell_type": "code",
   "execution_count": 22,
   "id": "b9f96c3f-446f-4760-8736-d4377e55064b",
   "metadata": {},
   "outputs": [
    {
     "ename": "AttributeError",
     "evalue": "no job class named 'HelloWorld' defined",
     "output_type": "error",
     "traceback": [
      "\u001b[0;31m---------------------------------------------------------------------------\u001b[0m",
      "\u001b[0;31mAttributeError\u001b[0m                            Traceback (most recent call last)",
      "Cell \u001b[0;32mIn[22], line 1\u001b[0m\n\u001b[0;32m----> 1\u001b[0m \u001b[43mpr\u001b[49m\u001b[38;5;241;43m.\u001b[39;49m\u001b[43mcreate\u001b[49m\u001b[38;5;241;43m.\u001b[39;49m\u001b[43mjob\u001b[49m\u001b[38;5;241;43m.\u001b[39;49m\u001b[43mHelloWorld\u001b[49m\n",
      "File \u001b[0;32m/u/system/SLES12/soft/pyiron/dev/anaconda3/lib/python3.8/site-packages/pyiron_base/jobs/job/jobtype.py:313\u001b[0m, in \u001b[0;36mJobFactory.__getattr__\u001b[0;34m(self, name)\u001b[0m\n\u001b[1;32m    311\u001b[0m     \u001b[38;5;28;01mreturn\u001b[39;00m wrapper\n\u001b[1;32m    312\u001b[0m \u001b[38;5;28;01melse\u001b[39;00m:\n\u001b[0;32m--> 313\u001b[0m     \u001b[38;5;28;01mraise\u001b[39;00m \u001b[38;5;167;01mAttributeError\u001b[39;00m(\u001b[38;5;124m\"\u001b[39m\u001b[38;5;124mno job class named \u001b[39m\u001b[38;5;124m'\u001b[39m\u001b[38;5;132;01m{}\u001b[39;00m\u001b[38;5;124m'\u001b[39m\u001b[38;5;124m defined\u001b[39m\u001b[38;5;124m\"\u001b[39m\u001b[38;5;241m.\u001b[39mformat(name))\n",
      "\u001b[0;31mAttributeError\u001b[0m: no job class named 'HelloWorld' defined"
     ]
    }
   ],
   "source": [
    "pr.create.job.HelloWorld"
   ]
  },
  {
   "cell_type": "markdown",
   "id": "787a5bde-1e6c-454b-b44d-ddaead3c29b8",
   "metadata": {},
   "source": [
    "## Run a simple workflow using the HelloWorld job type"
   ]
  },
  {
   "cell_type": "markdown",
   "id": "456e1a4e-cfe5-4b95-8516-e0b44176f7f8",
   "metadata": {},
   "source": [
    "### Run a loop"
   ]
  },
  {
   "cell_type": "markdown",
   "id": "802d6714-917b-49ed-a0e9-496b058f4313",
   "metadata": {},
   "source": [
    "#### Define a list of names  "
   ]
  },
  {
   "cell_type": "code",
   "execution_count": 26,
   "id": "324c8883-b0cc-429c-87a0-8432182aac9d",
   "metadata": {},
   "outputs": [],
   "source": [
    "name_lst = ['pyiron', 'CM', 'MPIE']"
   ]
  },
  {
   "cell_type": "markdown",
   "id": "6a10c095-fe7e-49b9-a652-e82127b475a1",
   "metadata": {},
   "source": [
    "#### Loop over all names"
   ]
  },
  {
   "cell_type": "markdown",
   "id": "094134b6-4481-4621-9925-025c2ef12efd",
   "metadata": {},
   "source": [
    "Note: \n",
    "- Make sure that each job has a unique name \n",
    "- A good and intuitive choice is to connect the name to the variable you change"
   ]
  },
  {
   "cell_type": "code",
   "execution_count": 27,
   "id": "b2142a53-748c-44b3-9c05-9845bd9692b6",
   "metadata": {},
   "outputs": [
    {
     "name": "stdout",
     "output_type": "stream",
     "text": [
      "The job job_pyiron was saved and received the ID: 18758593\n",
      "The job job_CM was saved and received the ID: 18758594\n",
      "The job job_MPIE was saved and received the ID: 18758595\n"
     ]
    }
   ],
   "source": [
    "for name in name_lst:\n",
    "    job = pr.create_job(job_type=HelloWorld, job_name=f'job_{name}')\n",
    "    job.input.name = name\n",
    "    job.run()"
   ]
  },
  {
   "cell_type": "markdown",
   "id": "8d67f83a-ff20-407f-8185-e83c4ddc25b6",
   "metadata": {},
   "source": [
    "#### Inspect the project"
   ]
  },
  {
   "cell_type": "code",
   "execution_count": 28,
   "id": "48b8c9d7-e8ef-49fc-9d33-5faeb07ed7ca",
   "metadata": {},
   "outputs": [
    {
     "data": {
      "text/html": [
       "<div>\n",
       "<style scoped>\n",
       "    .dataframe tbody tr th:only-of-type {\n",
       "        vertical-align: middle;\n",
       "    }\n",
       "\n",
       "    .dataframe tbody tr th {\n",
       "        vertical-align: top;\n",
       "    }\n",
       "\n",
       "    .dataframe thead th {\n",
       "        text-align: right;\n",
       "    }\n",
       "</style>\n",
       "<table border=\"1\" class=\"dataframe\">\n",
       "  <thead>\n",
       "    <tr style=\"text-align: right;\">\n",
       "      <th></th>\n",
       "      <th>id</th>\n",
       "      <th>status</th>\n",
       "      <th>chemicalformula</th>\n",
       "      <th>job</th>\n",
       "      <th>subjob</th>\n",
       "      <th>projectpath</th>\n",
       "      <th>project</th>\n",
       "      <th>timestart</th>\n",
       "      <th>timestop</th>\n",
       "      <th>totalcputime</th>\n",
       "      <th>computer</th>\n",
       "      <th>hamilton</th>\n",
       "      <th>hamversion</th>\n",
       "      <th>parentid</th>\n",
       "      <th>masterid</th>\n",
       "    </tr>\n",
       "  </thead>\n",
       "  <tbody>\n",
       "    <tr>\n",
       "      <th>0</th>\n",
       "      <td>18758578</td>\n",
       "      <td>finished</td>\n",
       "      <td>None</td>\n",
       "      <td>job</td>\n",
       "      <td>/job</td>\n",
       "      <td>/cmmc/u/</td>\n",
       "      <td>neugebau/myjupyternotebooks/pyiron/Developments/workflow/Hello/</td>\n",
       "      <td>2023-01-16 16:54:45.342632</td>\n",
       "      <td>2023-01-16 16:54:45.442127</td>\n",
       "      <td>0.0</td>\n",
       "      <td>neugebau@cmti001#1</td>\n",
       "      <td>HelloWorld</td>\n",
       "      <td>0.4</td>\n",
       "      <td>None</td>\n",
       "      <td>None</td>\n",
       "    </tr>\n",
       "    <tr>\n",
       "      <th>1</th>\n",
       "      <td>18758579</td>\n",
       "      <td>submitted</td>\n",
       "      <td>None</td>\n",
       "      <td>job_hpc</td>\n",
       "      <td>/job_hpc</td>\n",
       "      <td>/cmmc/u/</td>\n",
       "      <td>neugebau/myjupyternotebooks/pyiron/Developments/workflow/Hello/</td>\n",
       "      <td>2023-01-16 16:54:46.616886</td>\n",
       "      <td>NaT</td>\n",
       "      <td>NaN</td>\n",
       "      <td>neugebau@cmti001#1#s_cmfe</td>\n",
       "      <td>HelloWorld</td>\n",
       "      <td>0.4</td>\n",
       "      <td>None</td>\n",
       "      <td>None</td>\n",
       "    </tr>\n",
       "    <tr>\n",
       "      <th>2</th>\n",
       "      <td>18758593</td>\n",
       "      <td>finished</td>\n",
       "      <td>None</td>\n",
       "      <td>job_pyiron</td>\n",
       "      <td>/job_pyiron</td>\n",
       "      <td>/cmmc/u/</td>\n",
       "      <td>neugebau/myjupyternotebooks/pyiron/Developments/workflow/Hello/</td>\n",
       "      <td>2023-01-16 16:59:59.111716</td>\n",
       "      <td>2023-01-16 16:59:59.227211</td>\n",
       "      <td>0.0</td>\n",
       "      <td>neugebau@cmti001#1</td>\n",
       "      <td>HelloWorld</td>\n",
       "      <td>0.4</td>\n",
       "      <td>None</td>\n",
       "      <td>None</td>\n",
       "    </tr>\n",
       "    <tr>\n",
       "      <th>3</th>\n",
       "      <td>18758594</td>\n",
       "      <td>finished</td>\n",
       "      <td>None</td>\n",
       "      <td>job_CM</td>\n",
       "      <td>/job_CM</td>\n",
       "      <td>/cmmc/u/</td>\n",
       "      <td>neugebau/myjupyternotebooks/pyiron/Developments/workflow/Hello/</td>\n",
       "      <td>2023-01-16 16:59:59.326965</td>\n",
       "      <td>2023-01-16 16:59:59.457135</td>\n",
       "      <td>0.0</td>\n",
       "      <td>neugebau@cmti001#1</td>\n",
       "      <td>HelloWorld</td>\n",
       "      <td>0.4</td>\n",
       "      <td>None</td>\n",
       "      <td>None</td>\n",
       "    </tr>\n",
       "    <tr>\n",
       "      <th>4</th>\n",
       "      <td>18758595</td>\n",
       "      <td>finished</td>\n",
       "      <td>None</td>\n",
       "      <td>job_MPIE</td>\n",
       "      <td>/job_MPIE</td>\n",
       "      <td>/cmmc/u/</td>\n",
       "      <td>neugebau/myjupyternotebooks/pyiron/Developments/workflow/Hello/</td>\n",
       "      <td>2023-01-16 16:59:59.539439</td>\n",
       "      <td>2023-01-16 16:59:59.680603</td>\n",
       "      <td>0.0</td>\n",
       "      <td>neugebau@cmti001#1</td>\n",
       "      <td>HelloWorld</td>\n",
       "      <td>0.4</td>\n",
       "      <td>None</td>\n",
       "      <td>None</td>\n",
       "    </tr>\n",
       "  </tbody>\n",
       "</table>\n",
       "</div>"
      ],
      "text/plain": [
       "         id     status chemicalformula         job       subjob projectpath  \\\n",
       "0  18758578   finished            None         job         /job    /cmmc/u/   \n",
       "1  18758579  submitted            None     job_hpc     /job_hpc    /cmmc/u/   \n",
       "2  18758593   finished            None  job_pyiron  /job_pyiron    /cmmc/u/   \n",
       "3  18758594   finished            None      job_CM      /job_CM    /cmmc/u/   \n",
       "4  18758595   finished            None    job_MPIE    /job_MPIE    /cmmc/u/   \n",
       "\n",
       "                                                           project  \\\n",
       "0  neugebau/myjupyternotebooks/pyiron/Developments/workflow/Hello/   \n",
       "1  neugebau/myjupyternotebooks/pyiron/Developments/workflow/Hello/   \n",
       "2  neugebau/myjupyternotebooks/pyiron/Developments/workflow/Hello/   \n",
       "3  neugebau/myjupyternotebooks/pyiron/Developments/workflow/Hello/   \n",
       "4  neugebau/myjupyternotebooks/pyiron/Developments/workflow/Hello/   \n",
       "\n",
       "                   timestart                   timestop  totalcputime  \\\n",
       "0 2023-01-16 16:54:45.342632 2023-01-16 16:54:45.442127           0.0   \n",
       "1 2023-01-16 16:54:46.616886                        NaT           NaN   \n",
       "2 2023-01-16 16:59:59.111716 2023-01-16 16:59:59.227211           0.0   \n",
       "3 2023-01-16 16:59:59.326965 2023-01-16 16:59:59.457135           0.0   \n",
       "4 2023-01-16 16:59:59.539439 2023-01-16 16:59:59.680603           0.0   \n",
       "\n",
       "                    computer    hamilton hamversion parentid masterid  \n",
       "0         neugebau@cmti001#1  HelloWorld        0.4     None     None  \n",
       "1  neugebau@cmti001#1#s_cmfe  HelloWorld        0.4     None     None  \n",
       "2         neugebau@cmti001#1  HelloWorld        0.4     None     None  \n",
       "3         neugebau@cmti001#1  HelloWorld        0.4     None     None  \n",
       "4         neugebau@cmti001#1  HelloWorld        0.4     None     None  "
      ]
     },
     "execution_count": 28,
     "metadata": {},
     "output_type": "execute_result"
    }
   ],
   "source": [
    "pr.job_table()"
   ]
  },
  {
   "cell_type": "markdown",
   "id": "14017551-4135-4e8f-b74c-3fa7f1d36b3d",
   "metadata": {},
   "source": [
    "Note: Since we did not create a new project also the previous jobs are included"
   ]
  },
  {
   "cell_type": "markdown",
   "id": "7e5c1fb2-b4aa-4f29-9224-2a0f96443d71",
   "metadata": {},
   "source": [
    "### Analyze the jobs using pyiron_tables"
   ]
  },
  {
   "cell_type": "markdown",
   "id": "eb474f48-4c59-49b8-a203-a08775e6c668",
   "metadata": {},
   "source": [
    "#### Define functions to extract the relevant info from job"
   ]
  },
  {
   "cell_type": "code",
   "execution_count": 29,
   "id": "47e57261-c814-4b8b-a2bf-4f6616e48cea",
   "metadata": {},
   "outputs": [],
   "source": [
    "def get_job_name(job):\n",
    "    return job.name\n",
    "\n",
    "def get_name(job):\n",
    "    return job['storage/input']['name']"
   ]
  },
  {
   "cell_type": "markdown",
   "id": "27cb2d18-0fbc-433c-85e7-6a0d025b707d",
   "metadata": {},
   "source": [
    "**TODO**\n",
    "- should work (pyiron native formulation)     \n",
    "\n",
    "      job['input/name']    "
   ]
  },
  {
   "cell_type": "markdown",
   "id": "79a7fa56-3c45-4ced-8bac-fa28e9c630cd",
   "metadata": {},
   "source": [
    "#### Create table"
   ]
  },
  {
   "cell_type": "code",
   "execution_count": 30,
   "id": "15ae8778-7139-4909-86d3-2692ea365215",
   "metadata": {},
   "outputs": [],
   "source": [
    "table = table = pr.create_table(delete_existing_job=True)\n",
    "\n",
    "table.add['job_name'] = get_job_name\n",
    "table.add['name'] = get_name"
   ]
  },
  {
   "cell_type": "code",
   "execution_count": 31,
   "id": "7eb08b69-7815-412f-b855-495811dcc174",
   "metadata": {},
   "outputs": [
    {
     "name": "stdout",
     "output_type": "stream",
     "text": [
      "The job table was saved and received the ID: 18758596\n"
     ]
    },
    {
     "data": {
      "application/vnd.jupyter.widget-view+json": {
       "model_id": "e870e1426bee487cb0d1503d4e50888a",
       "version_major": 2,
       "version_minor": 0
      },
      "text/plain": [
       "Loading and filtering jobs:   0%|          | 0/6 [00:00<?, ?it/s]"
      ]
     },
     "metadata": {},
     "output_type": "display_data"
    },
    {
     "data": {
      "application/vnd.jupyter.widget-view+json": {
       "model_id": "de8a923366f849559be07c556e23806b",
       "version_major": 2,
       "version_minor": 0
      },
      "text/plain": [
       "Processing jobs:   0%|          | 0/4 [00:00<?, ?it/s]"
      ]
     },
     "metadata": {},
     "output_type": "display_data"
    }
   ],
   "source": [
    "table.run(delete_existing_job=True)"
   ]
  },
  {
   "cell_type": "markdown",
   "id": "5269fd5c-125e-424b-8cc9-0430437600ce",
   "metadata": {},
   "source": [
    "#### Get pandas dataframe"
   ]
  },
  {
   "cell_type": "markdown",
   "id": "74581071-fab2-48ac-ac2b-365a0f3fb06a",
   "metadata": {},
   "source": [
    "TODO: \n",
    "- Make nice repr for table (i.e., table should provide pandas like output)"
   ]
  },
  {
   "cell_type": "code",
   "execution_count": 33,
   "id": "149f32eb-a76b-4e22-8ba8-f943844ab9c8",
   "metadata": {},
   "outputs": [
    {
     "data": {
      "text/plain": [
       "{'groups': ['input', 'output'], 'nodes': ['HDF_VERSION', 'NAME', 'TYPE', 'VERSION', 'job_id', 'server', 'status']}"
      ]
     },
     "execution_count": 33,
     "metadata": {},
     "output_type": "execute_result"
    }
   ],
   "source": [
    "table"
   ]
  },
  {
   "cell_type": "code",
   "execution_count": 32,
   "id": "1bf416ea-6dde-48a3-ba2c-7695fa1d2593",
   "metadata": {},
   "outputs": [
    {
     "data": {
      "text/html": [
       "<div>\n",
       "<style scoped>\n",
       "    .dataframe tbody tr th:only-of-type {\n",
       "        vertical-align: middle;\n",
       "    }\n",
       "\n",
       "    .dataframe tbody tr th {\n",
       "        vertical-align: top;\n",
       "    }\n",
       "\n",
       "    .dataframe thead th {\n",
       "        text-align: right;\n",
       "    }\n",
       "</style>\n",
       "<table border=\"1\" class=\"dataframe\">\n",
       "  <thead>\n",
       "    <tr style=\"text-align: right;\">\n",
       "      <th></th>\n",
       "      <th>job_id</th>\n",
       "      <th>job_name</th>\n",
       "      <th>name</th>\n",
       "    </tr>\n",
       "  </thead>\n",
       "  <tbody>\n",
       "    <tr>\n",
       "      <th>0</th>\n",
       "      <td>18758578</td>\n",
       "      <td>job</td>\n",
       "      <td>CM</td>\n",
       "    </tr>\n",
       "    <tr>\n",
       "      <th>1</th>\n",
       "      <td>18758593</td>\n",
       "      <td>job_pyiron</td>\n",
       "      <td>pyiron</td>\n",
       "    </tr>\n",
       "    <tr>\n",
       "      <th>2</th>\n",
       "      <td>18758594</td>\n",
       "      <td>job_CM</td>\n",
       "      <td>CM</td>\n",
       "    </tr>\n",
       "    <tr>\n",
       "      <th>3</th>\n",
       "      <td>18758595</td>\n",
       "      <td>job_MPIE</td>\n",
       "      <td>MPIE</td>\n",
       "    </tr>\n",
       "  </tbody>\n",
       "</table>\n",
       "</div>"
      ],
      "text/plain": [
       "     job_id    job_name    name\n",
       "0  18758578         job      CM\n",
       "1  18758593  job_pyiron  pyiron\n",
       "2  18758594      job_CM      CM\n",
       "3  18758595    job_MPIE    MPIE"
      ]
     },
     "execution_count": 32,
     "metadata": {},
     "output_type": "execute_result"
    }
   ],
   "source": [
    "table.get_dataframe()"
   ]
  },
  {
   "cell_type": "markdown",
   "id": "941fb40a-829a-40b2-a16a-6e3588474a98",
   "metadata": {},
   "source": [
    "TODO: \n",
    "- Make the following 'pyironic', i.e., show content such in *job.input*"
   ]
  },
  {
   "cell_type": "code",
   "execution_count": 34,
   "id": "44d06811-4861-4c8c-aace-e31f42ef439b",
   "metadata": {},
   "outputs": [
    {
     "data": {
      "text/plain": [
       "{'groups': [], 'nodes': ['generic_dict']}"
      ]
     },
     "execution_count": 34,
     "metadata": {},
     "output_type": "execute_result"
    }
   ],
   "source": [
    "job['input']"
   ]
  },
  {
   "cell_type": "code",
   "execution_count": 35,
   "id": "1aac866b-514c-43d4-b02d-42b51c11bc90",
   "metadata": {},
   "outputs": [
    {
     "data": {
      "application/json": {
       "name": "'MPIE'"
      },
      "text/html": [
       "<pre>DataContainer({\n",
       "  \"name\": \"'MPIE'\"\n",
       "})</pre>"
      ],
      "text/plain": [
       "DataContainer({'name': 'MPIE'})"
      ]
     },
     "execution_count": 35,
     "metadata": {},
     "output_type": "execute_result"
    }
   ],
   "source": [
    "job.input"
   ]
  },
  {
   "cell_type": "markdown",
   "id": "8e0e9040-0e27-4ade-b057-63d7610acac1",
   "metadata": {},
   "source": [
    "## Test limits of pyiron data container"
   ]
  },
  {
   "cell_type": "markdown",
   "id": "f6621869-fcae-4d70-bd7e-97d1880ee21a",
   "metadata": {},
   "source": [
    "#### Store objects"
   ]
  },
  {
   "cell_type": "code",
   "execution_count": 36,
   "id": "aae5a86a-5e73-4d3c-a41c-1787b1291f3f",
   "metadata": {},
   "outputs": [
    {
     "name": "stderr",
     "output_type": "stream",
     "text": [
      "/u/system/SLES12/soft/pyiron/dev/anaconda3/lib/python3.8/site-packages/pkg_resources/__init__.py:123: PkgResourcesDeprecationWarning: NOT-A-GIT-REPOSITORY is an invalid version and will not be supported in a future release\n",
      "  warnings.warn(\n"
     ]
    }
   ],
   "source": [
    "from pyiron_atomistics import Project as ProjectAtomistic"
   ]
  },
  {
   "cell_type": "code",
   "execution_count": 37,
   "id": "ad368392-bb2c-4242-9b97-7ce3f779821a",
   "metadata": {},
   "outputs": [],
   "source": [
    "pr_atomistic = ProjectAtomistic('test2')\n",
    "\n",
    "Al = pr_atomistic.create.structure.bulk('Al')"
   ]
  },
  {
   "cell_type": "code",
   "execution_count": 38,
   "id": "de391d8a-b13f-4bc8-9d14-f6b8679124b7",
   "metadata": {},
   "outputs": [],
   "source": [
    "job = pr.create_job(job_type=HelloWorld, job_name=f'job_struct')\n",
    "# job.input.name = 'CM'\n",
    "job.input.name = Al"
   ]
  },
  {
   "cell_type": "code",
   "execution_count": 39,
   "id": "e2d3e613-1aa4-4875-b5e9-e002800473d2",
   "metadata": {},
   "outputs": [
    {
     "data": {
      "text/plain": [
       "Al: [0. 0. 0.]\n",
       "pbc: [ True  True  True]\n",
       "cell: \n",
       "Cell([[0.0, 2.025, 2.025], [2.025, 0.0, 2.025], [2.025, 2.025, 0.0]])"
      ]
     },
     "execution_count": 39,
     "metadata": {},
     "output_type": "execute_result"
    }
   ],
   "source": [
    "job.input.name"
   ]
  },
  {
   "cell_type": "code",
   "execution_count": 40,
   "id": "b43d8820-fc79-43d8-8779-0fc56512cf95",
   "metadata": {},
   "outputs": [
    {
     "name": "stdout",
     "output_type": "stream",
     "text": [
      "The job job_struct was saved and received the ID: 18758599\n"
     ]
    }
   ],
   "source": [
    "job.run()"
   ]
  },
  {
   "cell_type": "code",
   "execution_count": 42,
   "id": "9db4d308-8e8e-4f18-a039-f0bdf09b9dbf",
   "metadata": {},
   "outputs": [
    {
     "data": {
      "text/plain": [
       "Al: [0. 0. 0.]\n",
       "pbc: [ True  True  True]\n",
       "cell: \n",
       "Cell([[0.0, 2.025, 2.025], [2.025, 0.0, 2.025], [2.025, 2.025, 0.0]])"
      ]
     },
     "execution_count": 42,
     "metadata": {},
     "output_type": "execute_result"
    }
   ],
   "source": [
    "job = pr.load('job_struct')\n",
    "job.input.name"
   ]
  },
  {
   "cell_type": "code",
   "execution_count": 44,
   "id": "db730221-7697-4379-8e79-8e5bfbfab863",
   "metadata": {},
   "outputs": [
    {
     "data": {
      "text/plain": [
       "'Hello job_struct'"
      ]
     },
     "execution_count": 44,
     "metadata": {},
     "output_type": "execute_result"
    }
   ],
   "source": [
    "job.output.greetings"
   ]
  },
  {
   "cell_type": "markdown",
   "id": "6faf75a4-9c5f-41ea-bacc-f6bccfb10050",
   "metadata": {},
   "source": [
    "#### Include links (e.g. to other pyiron objects such as jobs)"
   ]
  },
  {
   "cell_type": "code",
   "execution_count": null,
   "id": "d422e6b9-982d-44e8-a6d3-9d716e19595e",
   "metadata": {},
   "outputs": [],
   "source": [
    "job.input.ref_job = pr.load()"
   ]
  },
  {
   "cell_type": "markdown",
   "id": "57b95d54-2dae-4985-999d-7bbcbbe51343",
   "metadata": {},
   "source": [
    "TODO: \n",
    "- add a property to pyiron object that allows to load it\n",
    "- this could be e.g. the job ID + database identifier\n",
    "- e.g.\n",
    "\n",
    "      job.identifier  # or\n",
    "      job.get_link()  # or\n",
    "      job.uri         # uniform resource identifier\n",
    "      \n",
    "      pr.load(object.uri) # -> object"
   ]
  },
  {
   "cell_type": "markdown",
   "id": "3ab6faed-5daf-4fff-b025-2714aba2d8a4",
   "metadata": {},
   "source": [
    "## Relation to ironflow"
   ]
  },
  {
   "cell_type": "markdown",
   "id": "b2d9aa6d-b037-429e-8233-ad0412914000",
   "metadata": {},
   "source": [
    "### Define a HelloWorld node in ironflow"
   ]
  },
  {
   "cell_type": "code",
   "execution_count": 45,
   "id": "0056a024-1f07-4a6e-8448-0d91c95e1418",
   "metadata": {},
   "outputs": [],
   "source": [
    "# import sys\n",
    "# sys.path.insert(0, '/cmmc/u/neugebau/git_projects/ironflow2/ironflow')\n",
    "# sys.path"
   ]
  },
  {
   "cell_type": "code",
   "execution_count": 46,
   "id": "8c522241-bd48-422f-8867-6a8e83c3b9c1",
   "metadata": {},
   "outputs": [
    {
     "ename": "ModuleNotFoundError",
     "evalue": "No module named 'ironflow.node_tools'",
     "output_type": "error",
     "traceback": [
      "\u001b[0;31m---------------------------------------------------------------------------\u001b[0m",
      "\u001b[0;31mModuleNotFoundError\u001b[0m                       Traceback (most recent call last)",
      "Cell \u001b[0;32mIn[46], line 1\u001b[0m\n\u001b[0;32m----> 1\u001b[0m \u001b[38;5;28;01mfrom\u001b[39;00m \u001b[38;5;21;01mironflow\u001b[39;00m\u001b[38;5;21;01m.\u001b[39;00m\u001b[38;5;21;01mnode_tools\u001b[39;00m \u001b[38;5;28;01mimport\u001b[39;00m Node, NodeInputBP, NodeOutputBP, dtypes, input_widgets\n\u001b[1;32m      4\u001b[0m \u001b[38;5;28;01mclass\u001b[39;00m \u001b[38;5;21;01mHellowWorld\u001b[39;00m(Node):\n\u001b[1;32m      5\u001b[0m     title \u001b[38;5;241m=\u001b[39m \u001b[38;5;124m\"\u001b[39m\u001b[38;5;124mHelloWorldNode\u001b[39m\u001b[38;5;124m\"\u001b[39m\n",
      "\u001b[0;31mModuleNotFoundError\u001b[0m: No module named 'ironflow.node_tools'"
     ]
    }
   ],
   "source": [
    "from ironflow.node_tools import Node, NodeInputBP, NodeOutputBP, dtypes, input_widgets\n",
    "\n",
    "\n",
    "class HellowWorld(Node):\n",
    "    title = \"HelloWorldNode\"\n",
    "    init_inputs = [\n",
    "        NodeInputBP(dtype=dtypes.String(default=1), label=\"name\")\n",
    "    ]\n",
    "    init_outputs = [\n",
    "        NodeOutputBP(label=\"greetings\", storage_priority= 10)\n",
    "    ]\n",
    "    color = 'cyan'\n",
    "\n",
    "    def node_function(self, name):\n",
    "        return {'greetings': name}\n",
    "\n",
    "\n",
    "gui.register_node(My_Node)"
   ]
  },
  {
   "cell_type": "markdown",
   "id": "2e9efad9-dad0-4724-af31-bee08322aafd",
   "metadata": {},
   "source": [
    "Notes:\n",
    "- Close similarity to pyiron job\n",
    "- input, output, run description\n",
    "    - identical to a generic python function (o1, o2, ... = func(i1, i2, ...)\n",
    "    - pyiron syntax appears a bit easier and more intuitive\n",
    "- dtype definition not yet in pyiron \n",
    "     - will be introduced with ontology\n",
    "     - needed mainly to select suitable gui for input\n",
    "- project and name have no equivalent in ironflow nodes\n",
    "    - script/macronode could be used to provide this info and to inherit it to all nodes running in this script\n",
    "    - when running the same script twice with different input a new name/project is required\n",
    "        - script becomes the new job\n",
    "        - node names (for logging/hdf5, not the name of the node) could be automatically constructed\n",
    "        - names could be semantically enriched by automatically using about name and value of changed parameter(s)\n",
    "        - node output should contain a storage label (priority, opt in/out for specific parameters)\n",
    "            - give users the option to enable storage policies\n",
    "- being able to register nodes is a key feature of ironflow\n",
    "     - should be extended to url/uri (store node in database that provides a link to extract/load node)\n",
    "     - could be a pyironObject\n",
    "- TODO: make pyironObjects native nodes"
   ]
  },
  {
   "cell_type": "markdown",
   "id": "fb8c07d5-6327-40e4-97a2-8d04d3e616b4",
   "metadata": {},
   "source": [
    "## General notes"
   ]
  },
  {
   "cell_type": "markdown",
   "id": "d83fab12-e7e9-439c-9809-711fd70da5a5",
   "metadata": {},
   "source": [
    "- Presently the project contains only all info regarding the jobs\n",
    "- Workflow info is only available in the jupyter notebook\n",
    "    - This can be modified, deleted etc.!\n",
    "    - Project, jobs have no info regarding their creating notebook, python script etc.\n",
    "- ironflow provides the necessary infrastructure    "
   ]
  },
  {
   "cell_type": "code",
   "execution_count": null,
   "id": "95afb26b-ad4f-4ab0-962d-5640f0ac6459",
   "metadata": {},
   "outputs": [],
   "source": []
  }
 ],
 "metadata": {
  "kernelspec": {
   "display_name": "Python 3 (ipykernel)",
   "language": "python",
   "name": "python3"
  },
  "language_info": {
   "codemirror_mode": {
    "name": "ipython",
    "version": 3
   },
   "file_extension": ".py",
   "mimetype": "text/x-python",
   "name": "python",
   "nbconvert_exporter": "python",
   "pygments_lexer": "ipython3",
   "version": "3.8.15"
  }
 },
 "nbformat": 4,
 "nbformat_minor": 5
}
